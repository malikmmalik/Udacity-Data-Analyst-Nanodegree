{
 "cells": [
  {
   "cell_type": "markdown",
   "metadata": {},
   "source": [
    "## Introduction: Map Area"
   ]
  },
  {
   "cell_type": "markdown",
   "metadata": {},
   "source": [
    "In this project, we analyze a map of a segment of Los Angeles, California. Specifically, I've decided to focus on an area of LA encompassing Downtown Los Angeles (DTLA) and the immediate area of the University of Southern California (USC).\n",
    "\n",
    "Having attended USC from 2010-2015, I spent the majority of my time during those five years within a 5-10 mile radius of campus. While I think I know the area somewhat well, I figured it would be interesting to analyze a dataset that would allow me to uncover new insights on a portion of Los Angeles that I feel a strong personal connection with.\n",
    "\n",
    "I used Mapzen's - an open source mapping platform -  custom extract tool to create my map. \n",
    "\n",
    "- Map Extract (USC and Downtown LA Area): https://mapzen.com/data/metro-extracts/your-extracts/0addcca0d637"
   ]
  },
  {
   "cell_type": "markdown",
   "metadata": {},
   "source": [
    "Additionally, I used LA Times' profile on Downtown LA to find out the boundaries of the area. I tried to include as much of DTLA I could during my map extraction, however the limitations of the tool meant I couldn't grab 100% of the area.\n",
    "\n",
    "- LA Times Profile on Downtown LA: http://maps.latimes.com/neighborhoods/neighborhood/downtown/"
   ]
  },
  {
   "cell_type": "markdown",
   "metadata": {},
   "source": [
    "Here's the map of the combined USC and DTLA area that I used for analysis:"
   ]
  },
  {
   "cell_type": "code",
   "execution_count": 1,
   "metadata": {
    "collapsed": false
   },
   "outputs": [
    {
     "data": {
      "text/html": [
       "<img src=\"http://i.imgur.com/XX9Aq7z.png\"/>"
      ],
      "text/plain": [
       "<IPython.core.display.Image object>"
      ]
     },
     "execution_count": 1,
     "metadata": {},
     "output_type": "execute_result"
    }
   ],
   "source": [
    "from IPython.display import Image\n",
    "Image(url='http://i.imgur.com/XX9Aq7z.png')"
   ]
  },
  {
   "cell_type": "markdown",
   "metadata": {},
   "source": [
    "## Data Cleaning"
   ]
  },
  {
   "cell_type": "markdown",
   "metadata": {},
   "source": [
    "Before analyzing the map, I decided to take a look at the dataset (a 121 MB .OSM OpenStreetMap file coded in XML) and see if data cleaning would be necessary. "
   ]
  },
  {
   "cell_type": "markdown",
   "metadata": {},
   "source": [
    "### Problems Encountered in the Dataset"
   ]
  },
  {
   "cell_type": "markdown",
   "metadata": {},
   "source": [
    "Looking at the dataset, there were a few issues I encountered. I knew I'd have to engage in some data wrangling to fix the following problems:\n",
    "\n",
    "1) Street Names - Abbreviations of street types (\"Figueroa St\"), incomplete street names (\"S. San Pedro\"), and street names with too much information (\"Traction Avenue, Suite 3A\").\n",
    "\n",
    "2) Post Codes - Post codes with nine digits instead of five (\"90007-2030\"), incomplete post codes (\"9006\", typo for \"90006\"), and erroneously entered post codes (\"CA\", \"90007-2030 213-749-9646\", \"CA 90018\").\n",
    "\n",
    "3) Phone Numbers - General lack of uniformity among phone numbers. \n",
    "\n",
    "Next, we'll tackle these issues in that order."
   ]
  },
  {
   "cell_type": "markdown",
   "metadata": {},
   "source": [
    "### Fixing Street Names"
   ]
  },
  {
   "cell_type": "markdown",
   "metadata": {},
   "source": [
    "The ideal street name is a complete street name, with no abbreviations for the street type, and no excess information. \n",
    "\n",
    "For example:\n",
    "\n",
    "- *Figueroa St* and *Olympic Boulevard, Unit 112*\n",
    "\n",
    "Should be corrected to:\n",
    "\n",
    "- *Figueroa Street* and *Olympic Boulevard*\n",
    "\n"
   ]
  },
  {
   "cell_type": "markdown",
   "metadata": {},
   "source": [
    "I identified the problem street names via a few steps. The *re* (regular expression) module was used to search the end of street names to find the street type (\"St\", \"Street\", \"Avenue\", etc). The specific regular expression used was as follows:"
   ]
  },
  {
   "cell_type": "code",
   "execution_count": null,
   "metadata": {
    "collapsed": true
   },
   "outputs": [],
   "source": [
    "street_type_re = re.compile(r'\\b\\S+\\.?$', re.IGNORECASE)\n",
    "\n",
    "m = street_type_re.search(street_name)"
   ]
  },
  {
   "cell_type": "markdown",
   "metadata": {},
   "source": [
    "Once the street type was found, the street type was matched against a list of \"expected\" street types. If the street type was not in that expected list, the entire street name would be added to a dictionary reserved for street names with problem street types, where the key of the dictionary is the problem street type (like \"St\") and its value is a list of street names that contain that problem street type (such as [\"Figueroa St\", \"Third St\"])."
   ]
  },
  {
   "cell_type": "markdown",
   "metadata": {},
   "source": [
    "Once I knew what problem street types existed, I created the audit code to fix them. Key to my audit code are my \"mapping\" and \"street_correction\" dictionaries, that replace all of the problem street types, and some particularly problematic street names, with their corrected versions.\n",
    "\n",
    "For streets with either wrong or incomplete information, I engaged in outside research to find out the necessary information for fixes. \n",
    "\n",
    "Here's a snippet of the code I used to clean the street names:"
   ]
  },
  {
   "cell_type": "code",
   "execution_count": 2,
   "metadata": {
    "collapsed": false
   },
   "outputs": [],
   "source": [
    "# Function to Update Street Names\n",
    "def update_name(name, mapping, street_correction):\n",
    "    m = street_type_re.search(name) # Recompiler is used to look for a match. Helps us find the street type.\n",
    "    street_type = m.group() # This allows us to work with the street type we grabbed\n",
    "    if street_type not in expected: # This ensures it only operates update_names on street names that need to be updated\n",
    "        if street_type not in mapping: \n",
    "            name = street_correction[street_type] # This is to correct the ones who whose entire name need to be corrected\n",
    "        else:\n",
    "            corrected_street_type = mapping[street_type] # Gets us the corrected street type from the mapping dictionary\n",
    "            name = name.replace(street_type, corrected_street_type) # Replaces the instance of the incorrected street type \n",
    "    return name # Return the corrected street name"
   ]
  },
  {
   "cell_type": "markdown",
   "metadata": {},
   "source": [
    "### Fixing Phone Numbers"
   ]
  },
  {
   "cell_type": "markdown",
   "metadata": {},
   "source": [
    "Phone numbers have been inputted a variety of ways.\n",
    "\n",
    "The format I've decided that all phone numbers should be in is the following: \n",
    "\n",
    "- 012-345-6789\n",
    "\n",
    "Any number that isn't in that format (has a country code, parentheses around area codes, no spaces, etc) will be corrected. \n",
    "\n",
    "For example:\n",
    "\n",
    "- *+1.855.427.6547*,  *+12136878808* and *+1 (213) 748-4141*\n",
    "\n",
    "Should be corrected to:\n",
    "\n",
    "- *855-427-6547*, *213-687-8808* and *213-748-4141*"
   ]
  },
  {
   "cell_type": "markdown",
   "metadata": {},
   "source": [
    "I identified all of the problem phone numbers by utilizing a function that would take in two arguments: an element from the XML data, and a set reserved for all of the phone numbers. It looked through the element for a phone number, and if it was found, it added that phone number to the phone numbers set."
   ]
  },
  {
   "cell_type": "markdown",
   "metadata": {},
   "source": [
    "A quick look through the phone numbers allowed me to notice how inconsistent phone number formatting was.\n",
    "\n",
    "Here's the code I used to standardize the phone numbers:"
   ]
  },
  {
   "cell_type": "code",
   "execution_count": 3,
   "metadata": {
    "collapsed": true
   },
   "outputs": [],
   "source": [
    "def update_phone_number(phone_number):\n",
    "    phone_number = re.sub(\"[-+(). ]\", \"\", phone_number) # Through the regular expression module, replace any instances\n",
    "    # of those symbols with \"\" - essentially removes those symbols from the phone numbers\n",
    "    if len(phone_number) > 10: # If the number has more than 10 numbers, it has a country code\n",
    "        phone_number = phone_number[1:] # Delete the country code\n",
    "    phone_number = phone_number[0:3] + \"-\" + phone_number[3:6] + \"-\" + phone_number[6:] # This converts the numbers into the \n",
    "    # 012-345-678 format\n",
    "    return phone_number # Return the standarized phone number"
   ]
  },
  {
   "cell_type": "markdown",
   "metadata": {},
   "source": [
    "### Fixing Post Codes"
   ]
  },
  {
   "cell_type": "markdown",
   "metadata": {},
   "source": [
    "Post codes should be standardized to a five digit format e.g. 90007.\n",
    "\n",
    "Some post codes have an extra four digits that identify a more specific area within the post code. I want to keep our\n",
    "post codes consistent, so I removed the extra four digits from our data.\n",
    "\n",
    "Others simply have input errors.\n",
    "\n",
    "For example:\n",
    "\n",
    "- *CA 90012*, *90057-4101* and *90007-2030 213-749-9646*\n",
    "\n",
    "Should be corrected to:\n",
    "\n",
    "- *90012*, *90057* and *90007*"
   ]
  },
  {
   "cell_type": "markdown",
   "metadata": {},
   "source": [
    "I identified all of the problem post codes by creating a function that would take in two arguments: an element from the XML data, and a set reserved for all of the post codes. It searched the element for a post code, and then added that post code to the set of post codes."
   ]
  },
  {
   "cell_type": "markdown",
   "metadata": {},
   "source": [
    "Similar to the phone numbers, I noticed there wasn't a consistent format for all of the post codes.\n",
    "\n",
    "Here's the code I used to standardize them:"
   ]
  },
  {
   "cell_type": "code",
   "execution_count": null,
   "metadata": {
    "collapsed": true
   },
   "outputs": [],
   "source": [
    "def update_post_code(post_code):\n",
    "    if post_code == 'CA': # This is to fix the post code that just has 'CA' as its post code. \n",
    "        # It is corrected to the location's actual post code.\n",
    "        post_code = '90057'\n",
    "    elif post_code == '9006': # This is to fix the post code that just has '9006\" as it's post code. \n",
    "        #It is corrected to the actual post code.\n",
    "        post_code = '90006'\n",
    "    else:\n",
    "        index = post_code.find('9') # Grabs the index of the first instance of the number 9 in any given post code\n",
    "        post_code = post_code[index:(index+5)] # Utilize index slicing to obtain a post code that starts with 9 and \n",
    "        # contains the following four digits\n",
    "    return post_code # Return the standardized post code"
   ]
  },
  {
   "cell_type": "markdown",
   "metadata": {},
   "source": [
    "## Parsing XML and Importing to CSV"
   ]
  },
  {
   "cell_type": "markdown",
   "metadata": {},
   "source": [
    "Next, I used Python code that parses the map dataset, utilizing the aforementioned functions in order to clean the phone numbers, post codes and street names, and then imports the entire dataset into five CSV files. \n",
    "\n",
    "The actual code used for the auditing and importing is quite long, but here's a snippet of the *shape_element* function, where you can see how the functions that we defined earlier (*update_name*, *update_phone_number*, *update_post_code*) are used to audit the XML file. This portion of the shape_element function focuses on updating ways tags and nodes tags."
   ]
  },
  {
   "cell_type": "code",
   "execution_count": null,
   "metadata": {
    "collapsed": true
   },
   "outputs": [],
   "source": [
    "def shape_element(element, node_attr_fields=NODE_FIELDS, way_attr_fields=WAY_FIELDS,\n",
    "                  problem_chars=PROBLEMCHARS, default_tag_type='regular'):\n",
    "    \"\"\"Clean and shape node or way XML element to Python dict\"\"\"\n",
    "    # Filling up the tags list:\n",
    "    for tag in element.iter(\"tag\"):\n",
    "        dic = {}\n",
    "        dic['id'] = element.attrib['id']\n",
    "        if \":\" in tag.attrib['k']: # Checks if there's a colon in the k value like \"addr:street\"\n",
    "            splitkey = re.split(\":\",tag.attrib[\"k\"],1) # This allows us to split on the colon but only the first one\n",
    "            dic['key'] = splitkey[1] \n",
    "            if dic['key'] == 'street':\n",
    "                dic['value'] = update_name(tag.attrib[\"v\"], mapping, street_correction) # Updates street name\n",
    "            elif dic['key'] == 'postcode':\n",
    "                dic['value'] = update_post_code(tag.attrib[\"v\"]) # Updates post code\n",
    "            elif dic['key'] == 'phone':\n",
    "                dic['value'] = update_phone_number(tag.attrib[\"v\"]) # Updates phone number\n",
    "            else:\n",
    "                dic['value'] = tag.attrib['v']\n",
    "            dic['type'] = splitkey[0]\n",
    "            \n",
    "        ...   \n",
    "        \n",
    "        tags.append(dic)"
   ]
  },
  {
   "cell_type": "markdown",
   "metadata": {},
   "source": [
    "## Importing CSV Files into SQLite Database#"
   ]
  },
  {
   "cell_type": "markdown",
   "metadata": {},
   "source": [
    "In order to perform analysis on my data using Python and SQL, I had to convert my new CSV files into SQL tables.\n",
    "\n",
    "My SQL program of choice is SQLite. I used sqlite3, accessed via my PC's command line, to make a new database, create the five SQL tables with specific schemas, and load the CSVs into each of them."
   ]
  },
  {
   "cell_type": "markdown",
   "metadata": {},
   "source": [
    "Once the tables were created, the relevant CSV files were imported to each SQL table (e.g. 'nodes.csv' was imported to the table 'nodes')"
   ]
  },
  {
   "cell_type": "markdown",
   "metadata": {},
   "source": [
    "## Function for Retrieving Data from SQLite"
   ]
  },
  {
   "cell_type": "markdown",
   "metadata": {},
   "source": [
    "We will create a function, titled *sqloutput*, that will take a SQL query as it's input and output the results into a dataframe.\n",
    "\n",
    "When the function obtains the SQL query, it will then establish the connection to our database, *udacityp3.db*, using the *sqlite3* module.\n",
    "\n",
    "Next, using the read_sql_query function from the *pandas* module, it will process the query and pass it into a pandas dataframe.\n",
    "\n",
    "The connection will then be closed, and the function will return the dataframe of our results."
   ]
  },
  {
   "cell_type": "code",
   "execution_count": 4,
   "metadata": {
    "collapsed": true
   },
   "outputs": [],
   "source": [
    "import pandas as pd\n",
    "import sqlite3\n",
    "\n",
    "def sqloutput(query):\n",
    "    conn = sqlite3.connect(\"udacityp3.db\") #Establish connection to database\n",
    "    df = pd.read_sql_query(query, conn) # Execute the query and pass results into a dataframe\n",
    "    conn.close() # Close the connection\n",
    "    return df # Return the query results"
   ]
  },
  {
   "cell_type": "markdown",
   "metadata": {},
   "source": [
    "## Data Overview"
   ]
  },
  {
   "cell_type": "markdown",
   "metadata": {},
   "source": [
    "For now, let's understand out data on a broad level by looking at the number of nodes and ways in the dataset, and the number of users who've contributed to this portion of the Los Angeles map.\n",
    "\n",
    "We'll be using SQL queries throughout this project to obtain the desired data."
   ]
  },
  {
   "cell_type": "markdown",
   "metadata": {},
   "source": [
    "### File Sizes"
   ]
  },
  {
   "cell_type": "markdown",
   "metadata": {},
   "source": [
    "    USC-and-Downtown-Los-Angeles.osm ......... 121 MB\n",
    "    udacityp3.db ............................. 111 MB\n",
    "    nodes.csv ............................... 48.8 MB\n",
    "    nodes_tags.csv .......................... 0.40 MB\n",
    "    ways.csv ................................. 3.7 MB\n",
    "    ways_tags.csv ........................... 12.3 MB\n",
    "    ways_nodes.csv .......................... 14.9 MB  "
   ]
  },
  {
   "cell_type": "markdown",
   "metadata": {},
   "source": [
    "### Number of Nodes"
   ]
  },
  {
   "cell_type": "code",
   "execution_count": 5,
   "metadata": {
    "collapsed": false
   },
   "outputs": [
    {
     "data": {
      "text/html": [
       "<div>\n",
       "<table border=\"1\" class=\"dataframe\">\n",
       "  <thead>\n",
       "    <tr style=\"text-align: right;\">\n",
       "      <th></th>\n",
       "      <th>COUNT(*)</th>\n",
       "    </tr>\n",
       "  </thead>\n",
       "  <tbody>\n",
       "    <tr>\n",
       "      <th>0</th>\n",
       "      <td>532044</td>\n",
       "    </tr>\n",
       "  </tbody>\n",
       "</table>\n",
       "</div>"
      ],
      "text/plain": [
       "   COUNT(*)\n",
       "0    532044"
      ]
     },
     "execution_count": 5,
     "metadata": {},
     "output_type": "execute_result"
    }
   ],
   "source": [
    "sqloutput(\"SELECT COUNT(*) FROM nodes\")"
   ]
  },
  {
   "cell_type": "markdown",
   "metadata": {},
   "source": [
    "### Number of Ways"
   ]
  },
  {
   "cell_type": "code",
   "execution_count": 6,
   "metadata": {
    "collapsed": false,
    "scrolled": true
   },
   "outputs": [
    {
     "data": {
      "text/html": [
       "<div>\n",
       "<table border=\"1\" class=\"dataframe\">\n",
       "  <thead>\n",
       "    <tr style=\"text-align: right;\">\n",
       "      <th></th>\n",
       "      <th>COUNT(*)</th>\n",
       "    </tr>\n",
       "  </thead>\n",
       "  <tbody>\n",
       "    <tr>\n",
       "      <th>0</th>\n",
       "      <td>56780</td>\n",
       "    </tr>\n",
       "  </tbody>\n",
       "</table>\n",
       "</div>"
      ],
      "text/plain": [
       "   COUNT(*)\n",
       "0     56780"
      ]
     },
     "execution_count": 6,
     "metadata": {},
     "output_type": "execute_result"
    }
   ],
   "source": [
    "sqloutput(\"SELECT COUNT(*) FROM ways\")"
   ]
  },
  {
   "cell_type": "markdown",
   "metadata": {},
   "source": [
    "### Number of Users Who've Contributed to this Map"
   ]
  },
  {
   "cell_type": "code",
   "execution_count": 12,
   "metadata": {
    "collapsed": false
   },
   "outputs": [
    {
     "data": {
      "text/html": [
       "<div>\n",
       "<table border=\"1\" class=\"dataframe\">\n",
       "  <thead>\n",
       "    <tr style=\"text-align: right;\">\n",
       "      <th></th>\n",
       "      <th>COUNT(*)</th>\n",
       "    </tr>\n",
       "  </thead>\n",
       "  <tbody>\n",
       "    <tr>\n",
       "      <th>0</th>\n",
       "      <td>419</td>\n",
       "    </tr>\n",
       "  </tbody>\n",
       "</table>\n",
       "</div>"
      ],
      "text/plain": [
       "   COUNT(*)\n",
       "0       419"
      ]
     },
     "execution_count": 12,
     "metadata": {},
     "output_type": "execute_result"
    }
   ],
   "source": [
    "sqloutput(\"SELECT COUNT(*) FROM (SELECT user FROM ways UNION SELECT user FROM nodes)\")"
   ]
  },
  {
   "cell_type": "markdown",
   "metadata": {},
   "source": [
    "### Top 10 Contributing Users"
   ]
  },
  {
   "cell_type": "code",
   "execution_count": 47,
   "metadata": {
    "collapsed": false,
    "scrolled": true
   },
   "outputs": [
    {
     "data": {
      "text/html": [
       "<div>\n",
       "<table border=\"1\" class=\"dataframe\">\n",
       "  <thead>\n",
       "    <tr style=\"text-align: right;\">\n",
       "      <th></th>\n",
       "      <th>user</th>\n",
       "      <th>Contributions</th>\n",
       "    </tr>\n",
       "  </thead>\n",
       "  <tbody>\n",
       "    <tr>\n",
       "      <th>0</th>\n",
       "      <td>schleuss_imports</td>\n",
       "      <td>191201</td>\n",
       "    </tr>\n",
       "    <tr>\n",
       "      <th>1</th>\n",
       "      <td>joemfox_imports</td>\n",
       "      <td>87066</td>\n",
       "    </tr>\n",
       "    <tr>\n",
       "      <th>2</th>\n",
       "      <td>dannykath_labuildings</td>\n",
       "      <td>55268</td>\n",
       "    </tr>\n",
       "    <tr>\n",
       "      <th>3</th>\n",
       "      <td>karitotp_labuildings</td>\n",
       "      <td>36399</td>\n",
       "    </tr>\n",
       "    <tr>\n",
       "      <th>4</th>\n",
       "      <td>RichRico_labuildings</td>\n",
       "      <td>35698</td>\n",
       "    </tr>\n",
       "    <tr>\n",
       "      <th>5</th>\n",
       "      <td>dima_import</td>\n",
       "      <td>26209</td>\n",
       "    </tr>\n",
       "    <tr>\n",
       "      <th>6</th>\n",
       "      <td>samely_labuildings</td>\n",
       "      <td>17743</td>\n",
       "    </tr>\n",
       "    <tr>\n",
       "      <th>7</th>\n",
       "      <td>emamd_imports</td>\n",
       "      <td>17359</td>\n",
       "    </tr>\n",
       "    <tr>\n",
       "      <th>8</th>\n",
       "      <td>calfarome_labuilding</td>\n",
       "      <td>11105</td>\n",
       "    </tr>\n",
       "    <tr>\n",
       "      <th>9</th>\n",
       "      <td>piligab_labuildings</td>\n",
       "      <td>7838</td>\n",
       "    </tr>\n",
       "  </tbody>\n",
       "</table>\n",
       "</div>"
      ],
      "text/plain": [
       "                    user  Contributions\n",
       "0       schleuss_imports         191201\n",
       "1        joemfox_imports          87066\n",
       "2  dannykath_labuildings          55268\n",
       "3   karitotp_labuildings          36399\n",
       "4   RichRico_labuildings          35698\n",
       "5            dima_import          26209\n",
       "6     samely_labuildings          17743\n",
       "7          emamd_imports          17359\n",
       "8   calfarome_labuilding          11105\n",
       "9    piligab_labuildings           7838"
      ]
     },
     "execution_count": 47,
     "metadata": {},
     "output_type": "execute_result"
    }
   ],
   "source": [
    "sqloutput(\"SELECT user, COUNT(*) as Contributions FROM (SELECT user FROM ways UNION ALL SELECT user FROM nodes) GROUP BY user ORDER BY Contributions DESC LIMIT 10\")"
   ]
  },
  {
   "cell_type": "markdown",
   "metadata": {},
   "source": [
    "### Numbers of Users Who Have Only Contributed Once"
   ]
  },
  {
   "cell_type": "code",
   "execution_count": 48,
   "metadata": {
    "collapsed": false
   },
   "outputs": [
    {
     "data": {
      "text/html": [
       "<div>\n",
       "<table border=\"1\" class=\"dataframe\">\n",
       "  <thead>\n",
       "    <tr style=\"text-align: right;\">\n",
       "      <th></th>\n",
       "      <th>COUNT(*)</th>\n",
       "    </tr>\n",
       "  </thead>\n",
       "  <tbody>\n",
       "    <tr>\n",
       "      <th>0</th>\n",
       "      <td>96</td>\n",
       "    </tr>\n",
       "  </tbody>\n",
       "</table>\n",
       "</div>"
      ],
      "text/plain": [
       "   COUNT(*)\n",
       "0        96"
      ]
     },
     "execution_count": 48,
     "metadata": {},
     "output_type": "execute_result"
    }
   ],
   "source": [
    "sqloutput(\"SELECT COUNT(*) FROM (SELECT user, COUNT(*) as Contributions FROM (SELECT user FROM ways UNION ALL SELECT user FROM nodes) GROUP BY user HAVING Contributions = 1)\")"
   ]
  },
  {
   "cell_type": "markdown",
   "metadata": {},
   "source": [
    "## Additional Analysis"
   ]
  },
  {
   "cell_type": "markdown",
   "metadata": {},
   "source": [
    "Now that we've gotten an overview, let's do some additional analysis on the dataset. "
   ]
  },
  {
   "cell_type": "markdown",
   "metadata": {},
   "source": [
    "### Top 10 Type of Restaurants"
   ]
  },
  {
   "cell_type": "code",
   "execution_count": 49,
   "metadata": {
    "collapsed": false,
    "scrolled": true
   },
   "outputs": [
    {
     "data": {
      "text/html": [
       "<div>\n",
       "<table border=\"1\" class=\"dataframe\">\n",
       "  <thead>\n",
       "    <tr style=\"text-align: right;\">\n",
       "      <th></th>\n",
       "      <th>value</th>\n",
       "      <th>num</th>\n",
       "    </tr>\n",
       "  </thead>\n",
       "  <tbody>\n",
       "    <tr>\n",
       "      <th>0</th>\n",
       "      <td>japanese</td>\n",
       "      <td>14</td>\n",
       "    </tr>\n",
       "    <tr>\n",
       "      <th>1</th>\n",
       "      <td>american</td>\n",
       "      <td>9</td>\n",
       "    </tr>\n",
       "    <tr>\n",
       "      <th>2</th>\n",
       "      <td>coffee_shop</td>\n",
       "      <td>9</td>\n",
       "    </tr>\n",
       "    <tr>\n",
       "      <th>3</th>\n",
       "      <td>sandwich</td>\n",
       "      <td>9</td>\n",
       "    </tr>\n",
       "    <tr>\n",
       "      <th>4</th>\n",
       "      <td>mexican</td>\n",
       "      <td>8</td>\n",
       "    </tr>\n",
       "    <tr>\n",
       "      <th>5</th>\n",
       "      <td>pizza</td>\n",
       "      <td>8</td>\n",
       "    </tr>\n",
       "    <tr>\n",
       "      <th>6</th>\n",
       "      <td>burger</td>\n",
       "      <td>4</td>\n",
       "    </tr>\n",
       "    <tr>\n",
       "      <th>7</th>\n",
       "      <td>korean</td>\n",
       "      <td>3</td>\n",
       "    </tr>\n",
       "    <tr>\n",
       "      <th>8</th>\n",
       "      <td>chicken</td>\n",
       "      <td>2</td>\n",
       "    </tr>\n",
       "    <tr>\n",
       "      <th>9</th>\n",
       "      <td>chinese</td>\n",
       "      <td>2</td>\n",
       "    </tr>\n",
       "  </tbody>\n",
       "</table>\n",
       "</div>"
      ],
      "text/plain": [
       "         value  num\n",
       "0     japanese   14\n",
       "1     american    9\n",
       "2  coffee_shop    9\n",
       "3     sandwich    9\n",
       "4      mexican    8\n",
       "5        pizza    8\n",
       "6       burger    4\n",
       "7       korean    3\n",
       "8      chicken    2\n",
       "9      chinese    2"
      ]
     },
     "execution_count": 49,
     "metadata": {},
     "output_type": "execute_result"
    }
   ],
   "source": [
    "sqloutput(\"SELECT value, count(*) AS num FROM nodes_tags WHERE key = 'cuisine' GROUP BY value ORDER BY num DESC LIMIT 10 \")"
   ]
  },
  {
   "cell_type": "markdown",
   "metadata": {},
   "source": [
    "### Top Places of Worship"
   ]
  },
  {
   "cell_type": "code",
   "execution_count": 50,
   "metadata": {
    "collapsed": false
   },
   "outputs": [
    {
     "data": {
      "text/html": [
       "<div>\n",
       "<table border=\"1\" class=\"dataframe\">\n",
       "  <thead>\n",
       "    <tr style=\"text-align: right;\">\n",
       "      <th></th>\n",
       "      <th>value</th>\n",
       "      <th>num</th>\n",
       "    </tr>\n",
       "  </thead>\n",
       "  <tbody>\n",
       "    <tr>\n",
       "      <th>0</th>\n",
       "      <td>christian</td>\n",
       "      <td>86</td>\n",
       "    </tr>\n",
       "    <tr>\n",
       "      <th>1</th>\n",
       "      <td>buddhist</td>\n",
       "      <td>3</td>\n",
       "    </tr>\n",
       "    <tr>\n",
       "      <th>2</th>\n",
       "      <td>catholic</td>\n",
       "      <td>1</td>\n",
       "    </tr>\n",
       "  </tbody>\n",
       "</table>\n",
       "</div>"
      ],
      "text/plain": [
       "       value  num\n",
       "0  christian   86\n",
       "1   buddhist    3\n",
       "2   catholic    1"
      ]
     },
     "execution_count": 50,
     "metadata": {},
     "output_type": "execute_result"
    }
   ],
   "source": [
    "sqloutput(\"SELECT value, count(*) AS num FROM nodes_tags WHERE key = 'religion' GROUP BY value ORDER BY num DESC LIMIT 10 \")"
   ]
  },
  {
   "cell_type": "markdown",
   "metadata": {},
   "source": [
    "### Top 10 Amenities"
   ]
  },
  {
   "cell_type": "code",
   "execution_count": 51,
   "metadata": {
    "collapsed": false
   },
   "outputs": [
    {
     "data": {
      "text/html": [
       "<div>\n",
       "<table border=\"1\" class=\"dataframe\">\n",
       "  <thead>\n",
       "    <tr style=\"text-align: right;\">\n",
       "      <th></th>\n",
       "      <th>value</th>\n",
       "      <th>num</th>\n",
       "    </tr>\n",
       "  </thead>\n",
       "  <tbody>\n",
       "    <tr>\n",
       "      <th>0</th>\n",
       "      <td>restaurant</td>\n",
       "      <td>126</td>\n",
       "    </tr>\n",
       "    <tr>\n",
       "      <th>1</th>\n",
       "      <td>place_of_worship</td>\n",
       "      <td>97</td>\n",
       "    </tr>\n",
       "    <tr>\n",
       "      <th>2</th>\n",
       "      <td>bicycle_rental</td>\n",
       "      <td>51</td>\n",
       "    </tr>\n",
       "    <tr>\n",
       "      <th>3</th>\n",
       "      <td>school</td>\n",
       "      <td>46</td>\n",
       "    </tr>\n",
       "    <tr>\n",
       "      <th>4</th>\n",
       "      <td>fast_food</td>\n",
       "      <td>28</td>\n",
       "    </tr>\n",
       "    <tr>\n",
       "      <th>5</th>\n",
       "      <td>cafe</td>\n",
       "      <td>24</td>\n",
       "    </tr>\n",
       "    <tr>\n",
       "      <th>6</th>\n",
       "      <td>bench</td>\n",
       "      <td>22</td>\n",
       "    </tr>\n",
       "    <tr>\n",
       "      <th>7</th>\n",
       "      <td>fountain</td>\n",
       "      <td>22</td>\n",
       "    </tr>\n",
       "    <tr>\n",
       "      <th>8</th>\n",
       "      <td>parking</td>\n",
       "      <td>22</td>\n",
       "    </tr>\n",
       "    <tr>\n",
       "      <th>9</th>\n",
       "      <td>bicycle_parking</td>\n",
       "      <td>19</td>\n",
       "    </tr>\n",
       "  </tbody>\n",
       "</table>\n",
       "</div>"
      ],
      "text/plain": [
       "              value  num\n",
       "0        restaurant  126\n",
       "1  place_of_worship   97\n",
       "2    bicycle_rental   51\n",
       "3            school   46\n",
       "4         fast_food   28\n",
       "5              cafe   24\n",
       "6             bench   22\n",
       "7          fountain   22\n",
       "8           parking   22\n",
       "9   bicycle_parking   19"
      ]
     },
     "execution_count": 51,
     "metadata": {},
     "output_type": "execute_result"
    }
   ],
   "source": [
    "sqloutput(\"SELECT value, COUNT(*) as num FROM nodes_tags WHERE key='amenity' GROUP BY value ORDER BY num DESC LIMIT 10\")"
   ]
  },
  {
   "cell_type": "markdown",
   "metadata": {},
   "source": [
    "## Potential Improvements"
   ]
  },
  {
   "cell_type": "markdown",
   "metadata": {},
   "source": [
    "The biggest issue OpenStreetMap (OSM) has is the relatively little data they have. A map application lives and dies by it's data, and it's fair to assume that individuals will immediately seek out alternatives if they can't find what they're looking for on OpenStreetMap. There's simply not enough people adding to the map. OpenStreet Map has to get more people on their platform.\n"
   ]
  },
  {
   "cell_type": "markdown",
   "metadata": {},
   "source": [
    "### Increase Engagement\n",
    "\n",
    "In order to get more users to populate OpenStreetMap with information, OpenStreetMap should collaborate with app developers to use OpenStreetMap as their main mapping software. Specifically, apps that have features like geo-tagging and check-ins have the potential to really boost OSM. The data they input into these apps could then be inputted into OpenStreetMap. \n",
    "\n",
    "#### Potential Obstacle\n",
    "\n",
    "However, considering that OSM is a non-profit, and not a profit making corporation, they may struggle convincing a significant amount of developers to integrate OSM into their apps."
   ]
  },
  {
   "cell_type": "markdown",
   "metadata": {},
   "source": [
    "### Stronger Data Input Guidelines\n",
    "\n",
    "Create stronger guidelines that will help keep information consistent throughout. For instance, \"fast_food\" has been inputted as an \"amenity\" by some users, and as a \"cuisine\" by others. This can make trying to find the data you want slightly trickier than you would like. Clearer guidelines that layout where exactly some pieces of information should go will help keep the data consistent. \n",
    "\n",
    "#### Potential Obstacle\n",
    "\n",
    "This is easier said than done, however, as there are many different kinds of data and possible inputs that need to be taken into consideration when writing these guidelines. This could make guidelines that are too long to read. Also, OpenStreetMap may struggle getting a large amount of their users to thoroughly read the guidelines."
   ]
  },
  {
   "cell_type": "markdown",
   "metadata": {},
   "source": [
    "## Conclusion"
   ]
  },
  {
   "cell_type": "markdown",
   "metadata": {},
   "source": [
    "The map containing the USC and DTLA area doesn't have as much information as I hoped. The consequence of not having enough information means that I might not have much confidence toward my data analysis findings if I were to conduct a deep investigation, or I just won't find the information I need. \n",
    "\n",
    "Hopefully, as OpenStreetMap grows, and more than just 419 people add to the map of this part of Los Angeles, OSM will not only have more information, but potentially better organized data as well. This will help users like myself who wish to learn more about cities by analyzing a map dataset."
   ]
  }
 ],
 "metadata": {
  "anaconda-cloud": {},
  "kernelspec": {
   "display_name": "Python [conda env:DAND]",
   "language": "python",
   "name": "conda-env-DAND-py"
  },
  "language_info": {
   "codemirror_mode": {
    "name": "ipython",
    "version": 2
   },
   "file_extension": ".py",
   "mimetype": "text/x-python",
   "name": "python",
   "nbconvert_exporter": "python",
   "pygments_lexer": "ipython2",
   "version": "2.7.12"
  }
 },
 "nbformat": 4,
 "nbformat_minor": 2
}
